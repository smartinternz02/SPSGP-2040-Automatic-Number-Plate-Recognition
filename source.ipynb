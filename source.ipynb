{
 "cells": [
  {
   "cell_type": "code",
   "execution_count": 1,
   "id": "ca687e3f",
   "metadata": {},
   "outputs": [],
   "source": [
    "from flask import Flask, request, render_template"
   ]
  },
  {
   "cell_type": "code",
   "execution_count": 2,
   "id": "0c91f0f6",
   "metadata": {},
   "outputs": [],
   "source": [
    "import numpy as np"
   ]
  },
  {
   "cell_type": "code",
   "execution_count": 3,
   "id": "d0fd9f9b",
   "metadata": {},
   "outputs": [],
   "source": [
    "import re"
   ]
  },
  {
   "cell_type": "code",
   "execution_count": 4,
   "id": "5c129b6a",
   "metadata": {},
   "outputs": [],
   "source": [
    "import requests"
   ]
  },
  {
   "cell_type": "code",
   "execution_count": 5,
   "id": "47075868",
   "metadata": {},
   "outputs": [],
   "source": [
    "app=Flask(__name__)"
   ]
  },
  {
   "cell_type": "code",
   "execution_count": 8,
   "id": "e3f562e6",
   "metadata": {},
   "outputs": [
    {
     "name": "stdout",
     "output_type": "stream",
     "text": [
      "{\"uuid\":\"\",\"data_type\":\"alpr_results\",\"epoch_time\":1622529177351,\"processing_time\":{\"plates\":43.34928513,\"total\":46.80199999893375},\"img_height\":600,\"img_width\":600,\"results\":[{\"plate\":\"MHJ3719\",\"confidence\":93.81554413,\"region_confidence\":92,\"vehicle_region\":{\"y\":63,\"x\":48,\"height\":516,\"width\":525},\"region\":\"mx-mex\",\"plate_index\":0,\"processing_time_ms\":11.7141037,\"candidates\":[{\"matches_template\":0,\"plate\":\"MHJ3719\",\"confidence\":93.81554413}],\"coordinates\":[{\"y\":487,\"x\":255},{\"y\":489,\"x\":374},{\"y\":541,\"x\":370},{\"y\":538,\"x\":252}],\"matches_template\":0,\"requested_topn\":10}],\"version\":2,\"error\":false,\"regions_of_interest\":[{\"y\":0,\"x\":0,\"height\":600,\"width\":600}]}\n"
     ]
    }
   ],
   "source": [
    "import requests\n",
    "\n",
    "url = \"https://zyanyatech1-license-plate-recognition-v1.p.rapidapi.com/recognize_url\"\n",
    "\n",
    "querystring = {\"image_url\":\"http://eslamoda.com/wp-content/uploads/sites/2/2014/11/america-carro-600x600.jpg\"}\n",
    "\n",
    "headers = {\n",
    "    'x-rapidapi-key': \"79ecc4ac7dmsh541f4f0255be33ep16601cjsn3343215689ef\",\n",
    "    'x-rapidapi-host': \"zyanyatech1-license-plate-recognition-v1.p.rapidapi.com\"\n",
    "    }\n",
    "\n",
    "response = requests.request(\"POST\", url, headers=headers, params=querystring)\n",
    "\n",
    "print(response.text)\n",
    "return response.json()[\"results\"][0][\"plate\"], response.json()[\"results\"][0][\"confidence\"]"
   ]
  },
  {
   "cell_type": "code",
   "execution_count": null,
   "id": "7a723bfc",
   "metadata": {},
   "outputs": [],
   "source": [
    "@app.route('/')\n",
    "def home():\n",
    "    return render_template('base.html')"
   ]
  },
  {
   "cell_type": "code",
   "execution_count": null,
   "id": "643080e0",
   "metadata": {},
   "outputs": [],
   "source": [
    "@app.route('/predict',methods=['POST'])\n",
    "def predict():\n",
    "    output=request.form['output']\n",
    "    plate,conf=check(output)\n",
    "    return render_template('base.html',output=plate+\"with confidence score:\"+str(round(conf))+\"%\")"
   ]
  },
  {
   "cell_type": "code",
   "execution_count": null,
   "id": "bf0a6b4c",
   "metadata": {},
   "outputs": [],
   "source": [
    "if __name__ == \"__main__\":\n",
    "    app.run(debug=True)"
   ]
  },
  {
   "cell_type": "code",
   "execution_count": null,
   "id": "a11eb893",
   "metadata": {},
   "outputs": [],
   "source": []
  },
  {
   "cell_type": "code",
   "execution_count": null,
   "id": "b2849f6d",
   "metadata": {},
   "outputs": [],
   "source": []
  },
  {
   "cell_type": "code",
   "execution_count": null,
   "id": "40a21d09",
   "metadata": {},
   "outputs": [],
   "source": []
  },
  {
   "cell_type": "code",
   "execution_count": null,
   "id": "baddd5c7",
   "metadata": {},
   "outputs": [],
   "source": []
  },
  {
   "cell_type": "code",
   "execution_count": null,
   "id": "f96d962f",
   "metadata": {},
   "outputs": [],
   "source": []
  },
  {
   "cell_type": "code",
   "execution_count": null,
   "id": "942c7f10",
   "metadata": {},
   "outputs": [],
   "source": []
  },
  {
   "cell_type": "code",
   "execution_count": null,
   "id": "c1fdea6f",
   "metadata": {},
   "outputs": [],
   "source": []
  },
  {
   "cell_type": "code",
   "execution_count": null,
   "id": "31d83137",
   "metadata": {},
   "outputs": [],
   "source": []
  },
  {
   "cell_type": "code",
   "execution_count": null,
   "id": "2b94d290",
   "metadata": {},
   "outputs": [],
   "source": []
  },
  {
   "cell_type": "code",
   "execution_count": null,
   "id": "25eacd73",
   "metadata": {},
   "outputs": [],
   "source": []
  },
  {
   "cell_type": "code",
   "execution_count": null,
   "id": "317f4b12",
   "metadata": {},
   "outputs": [],
   "source": []
  }
 ],
 "metadata": {
  "kernelspec": {
   "display_name": "Python 3",
   "language": "python",
   "name": "python3"
  },
  "language_info": {
   "codemirror_mode": {
    "name": "ipython",
    "version": 3
   },
   "file_extension": ".py",
   "mimetype": "text/x-python",
   "name": "python",
   "nbconvert_exporter": "python",
   "pygments_lexer": "ipython3",
   "version": "3.8.8"
  }
 },
 "nbformat": 4,
 "nbformat_minor": 5
}
